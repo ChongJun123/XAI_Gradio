{
 "cells": [
  {
   "cell_type": "markdown",
   "id": "d6b7d8bd",
   "metadata": {},
   "source": [
    "### Imports"
   ]
  },
  {
   "cell_type": "code",
   "execution_count": 1,
   "id": "66d39922",
   "metadata": {},
   "outputs": [],
   "source": [
    "import gradio as gr\n",
    "import numpy as np\n",
    "import pandas as pd\n",
    "import time"
   ]
  },
  {
   "cell_type": "markdown",
   "id": "742873b0",
   "metadata": {},
   "source": [
    "### Settings"
   ]
  },
  {
   "cell_type": "code",
   "execution_count": 2,
   "id": "185c3c67",
   "metadata": {},
   "outputs": [],
   "source": [
    "# path to excel sheet\n",
    "excel_path = \"study_data.xlsx\"\n",
    "\n",
    "# Videos\n",
    "videos = [\"testvid1\", \"testvid2\", \"testvid3\"]\n",
    "video_type = \"mp4\"\n",
    "default_video_path = f\"videos/{videos[0]}.{video_type}\"\n",
    "video_format = [380, 540] # height, width\n",
    "\n",
    "# Images\n",
    "images = [[\"testimg1\", \"testimg2\"], \n",
    "          [\"testimg3\", \"testimg4\"]]\n",
    "default_image_path = f\"images/{images[0][0]}.jpeg\"\n",
    "image_format = [240, 240] # height, width\n",
    "\n",
    "# Dropdown options\n",
    "# options are converted to array indexes for image and videos, \n",
    "# option \"1\" -> videos[0], images[0][0] + images[0][1]\n",
    "# option \"2\" -> videos[1], images[1][0] + images[1][1]\n",
    "options = [[\"1\", \"3\", \"5\"]\n",
    "         , [\"2\", \"4\", \"6\"]\n",
    "          ]"
   ]
  },
  {
   "cell_type": "markdown",
   "id": "0c93f4f0",
   "metadata": {},
   "source": [
    "### Functions"
   ]
  },
  {
   "cell_type": "code",
   "execution_count": 3,
   "id": "b005c1d7",
   "metadata": {},
   "outputs": [],
   "source": [
    "def retrieve_input(user, prediction, w, start_time, selected_patient):\n",
    "    # save input\n",
    "    df = pd.read_excel(excel_path, index_col=None)\n",
    "    time_taken = time.time()-start_time\n",
    "    mylist = [user, selected_patient.value, w, prediction, time_taken]\n",
    "    df.loc[len(df)] = mylist\n",
    "    df.to_excel(excel_path, index=False)\n",
    "    \n",
    "    return f'User number: {user},  Prediction: {prediction},  Time taken: {time_taken}s', \" \"\n",
    "\n",
    "def start_timer():\n",
    "    return \"Timer Started\", time.time()\n",
    "\n",
    "def select_patient(p):\n",
    "    patient_num = int(p) - 1\n",
    "    \n",
    "    video = videos[patient_num]\n",
    "    image1 = images[patient_num][0]\n",
    "    image2 = images[patient_num][1]\n",
    "        \n",
    "    return gr.Video.update(value = f\"videos/{video}.{video_type}\"), gr.Variable(value=f\"{p}\"), gr.Image.update(f\"images/{image1}.jpeg\"), gr.Image.update(f\"images/{image2}.jpeg\")\n",
    "\n",
    "def get_usernum(num):\n",
    "    ddl = options[int(num)-1]\n",
    "    \n",
    "    return f\"User Number: {num} submitted.\", num, gr.Dropdown.update(choices = ddl), gr.Dropdown.update(choices = ddl)"
   ]
  },
  {
   "cell_type": "markdown",
   "id": "0c195db8",
   "metadata": {},
   "source": [
    "### Interface"
   ]
  },
  {
   "cell_type": "code",
   "execution_count": 4,
   "id": "248aece1",
   "metadata": {
    "scrolled": true
   },
   "outputs": [
    {
     "name": "stdout",
     "output_type": "stream",
     "text": [
      "Running on local URL:  http://127.0.0.1:7860/\n",
      "Running on public URL: https://38809.gradio.app\n",
      "\n",
      "This share link expires in 72 hours. For free permanent hosting, check out Spaces: https://huggingface.co/spaces\n"
     ]
    },
    {
     "data": {
      "text/html": [
       "<div><iframe src=\"https://38809.gradio.app\" width=\"900\" height=\"500\" allow=\"autoplay; camera; microphone;\" frameborder=\"0\" allowfullscreen></iframe></div>"
      ],
      "text/plain": [
       "<IPython.core.display.HTML object>"
      ]
     },
     "metadata": {},
     "output_type": "display_data"
    },
    {
     "data": {
      "text/plain": [
       "(<gradio.routes.App at 0x7fc1cea66250>,\n",
       " 'http://127.0.0.1:7860/',\n",
       " 'https://38809.gradio.app')"
      ]
     },
     "execution_count": 4,
     "metadata": {},
     "output_type": "execute_result"
    }
   ],
   "source": [
    "# Interface\n",
    "demo = gr.Blocks()\n",
    "\n",
    "with demo:\n",
    "    # Welcome Message\n",
    "    gr.Markdown(\"Insert Welcome Message Here\")\n",
    "    \n",
    "    with gr.Tabs():\n",
    "        usernum_var = gr.Variable()\n",
    "        \n",
    "        # Tab 0\n",
    "        with gr.TabItem(\"Home Tab\"):\n",
    "            # Enter user number\n",
    "            usernum = gr.Textbox(placeholder='Enter User Number', label=\"User Number\")\n",
    "            usernum_btn = gr.Button(\"Submit User Number\")\n",
    "            usernum_feedback = gr.Markdown()\n",
    "        \n",
    "        # Tab 2\n",
    "        with gr.TabItem(\"Without Explanations\"):\n",
    "            # Select patient / video\n",
    "            dropdown2 = gr.Dropdown([\"\"], label=\"Select Patient\")\n",
    "            selected_patient2 = gr.Variable()\n",
    "            \n",
    "            # Start timer\n",
    "            gr.Markdown(\"\")\n",
    "            startbtn2 = gr.Button(\"Start timer\")\n",
    "            start_msg2 = gr.Markdown()\n",
    "            startbtn_output2 = gr.Variable()\n",
    "            startbtn2.click(start_timer, inputs=None, outputs=[start_msg2, startbtn_output2])\n",
    "            \n",
    "            # Insert video here\n",
    "            vid2 = gr.Video(default_video_path, format=video_type).style(height=video_format[0], width=video_format[1])\n",
    "            \n",
    "            # Dropdown click\n",
    "            dropdown2.change(select_patient, inputs=dropdown2, outputs=[vid2, selected_patient2])\n",
    "            \n",
    "            # Get input\n",
    "            pred2 = gr.Textbox(placeholder='Enter Prediction', label=\"Prediction\")\n",
    "            output2 = gr.Markdown()\n",
    "            text_button2 = gr.Button(\"Submit\")\n",
    "            w2 = gr.Variable(value=\"No\")\n",
    "            text_button2.click(retrieve_input, inputs=[usernum_var, pred2, w2, startbtn_output2, selected_patient2]\n",
    "                              , outputs=[output2, start_msg2])\n",
    "            \n",
    "        # Tab 1  \n",
    "        with gr.TabItem(\"With Explanations\"):\n",
    "            # Select patient / video\n",
    "            dropdown = gr.Dropdown([\"\"], label=\"Select Patient\")\n",
    "            selected_patient = gr.Variable()\n",
    "            \n",
    "            # Start timer\n",
    "            gr.Markdown(\"\")\n",
    "            startbtn = gr.Button(\"Start timer\")\n",
    "            start_msg = gr.Markdown()\n",
    "            startbtn_output = gr.Variable()\n",
    "            startbtn.click(start_timer, inputs=None, outputs=[start_msg, startbtn_output])\n",
    "            \n",
    "            # Insert video here\n",
    "            vid = gr.Video(default_video_path, format=video_type).style(height=video_format[0], width=video_format[1])\n",
    "            \n",
    "            # Insert photos/explanations here\n",
    "            with gr.Row():\n",
    "                with gr.Column():\n",
    "                    ex1 = gr.Image(default_image_path).style(height=image_format[0], width=image_format[1])\n",
    "                with gr.Column():\n",
    "                    ex2 = gr.Image(default_image_path).style(height=image_format[0], width=image_format[1])\n",
    "            \n",
    "            \n",
    "            # Dropdown click\n",
    "            dropdown.change(select_patient, inputs=dropdown, outputs=[vid, selected_patient, ex1, ex2])\n",
    "            usernum_btn.click(get_usernum, inputs=usernum, outputs=[usernum_feedback, usernum_var, dropdown, dropdown2]) # shifted here\n",
    "            \n",
    "            \n",
    "            # Get input\n",
    "            pred = gr.Textbox(placeholder='Enter Prediction', label=\"Prediction\")\n",
    "            output = gr.Markdown()\n",
    "            text_button = gr.Button(\"Submit\")\n",
    "            w = gr.Variable(value=\"Yes\")\n",
    "            text_button.click(retrieve_input, inputs=[usernum_var, pred, w, startbtn_output, selected_patient]\n",
    "                              , outputs=[output, start_msg])\n",
    "            \n",
    "demo.launch(share=True)"
   ]
  }
 ],
 "metadata": {
  "kernelspec": {
   "display_name": "Python 3 (ipykernel)",
   "language": "python",
   "name": "python3"
  },
  "language_info": {
   "codemirror_mode": {
    "name": "ipython",
    "version": 3
   },
   "file_extension": ".py",
   "mimetype": "text/x-python",
   "name": "python",
   "nbconvert_exporter": "python",
   "pygments_lexer": "ipython3",
   "version": "3.8.13"
  }
 },
 "nbformat": 4,
 "nbformat_minor": 5
}
